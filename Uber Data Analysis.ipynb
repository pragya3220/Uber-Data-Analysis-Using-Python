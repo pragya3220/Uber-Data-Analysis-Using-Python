{
 "cells": [
  {
   "cell_type": "code",
   "execution_count": 57,
   "id": "4bbdccff",
   "metadata": {},
   "outputs": [],
   "source": [
    "import numpy as np \n",
    "import pandas as pd \n",
    "import matplotlib.pyplot as plt \n",
    "import seaborn as sns \n",
    "\n",
    "plt.style.use('ggplot') "
   ]
  },
  {
   "cell_type": "markdown",
   "id": "b2cce24f",
   "metadata": {
    "papermill": {
     "duration": 0.025615,
     "end_time": "2023-09-05T11:55:27.651352",
     "exception": false,
     "start_time": "2023-09-05T11:55:27.625737",
     "status": "completed"
    },
    "tags": []
   },
   "source": [
    "# Importing data"
   ]
  },
  {
   "cell_type": "code",
   "execution_count": 58,
   "id": "68083c3c",
   "metadata": {
    "execution": {
     "iopub.execute_input": "2023-09-05T11:55:27.706215Z",
     "iopub.status.busy": "2023-09-05T11:55:27.705806Z",
     "iopub.status.idle": "2023-09-05T11:55:27.761862Z",
     "shell.execute_reply": "2023-09-05T11:55:27.760704Z"
    },
    "papermill": {
     "duration": 0.086845,
     "end_time": "2023-09-05T11:55:27.764464",
     "exception": false,
     "start_time": "2023-09-05T11:55:27.677619",
     "status": "completed"
    },
    "tags": []
   },
   "outputs": [],
   "source": [
    "# Defining dataframe\n",
    "df = pd.read_csv('UberDataset.csv')"
   ]
  },
  {
   "cell_type": "code",
   "execution_count": 59,
   "id": "f9303326",
   "metadata": {},
   "outputs": [
    {
     "data": {
      "text/html": [
       "<div>\n",
       "<style scoped>\n",
       "    .dataframe tbody tr th:only-of-type {\n",
       "        vertical-align: middle;\n",
       "    }\n",
       "\n",
       "    .dataframe tbody tr th {\n",
       "        vertical-align: top;\n",
       "    }\n",
       "\n",
       "    .dataframe thead th {\n",
       "        text-align: right;\n",
       "    }\n",
       "</style>\n",
       "<table border=\"1\" class=\"dataframe\">\n",
       "  <thead>\n",
       "    <tr style=\"text-align: right;\">\n",
       "      <th></th>\n",
       "      <th>START_DATE</th>\n",
       "      <th>END_DATE</th>\n",
       "      <th>CATEGORY</th>\n",
       "      <th>START</th>\n",
       "      <th>STOP</th>\n",
       "      <th>MILES</th>\n",
       "      <th>PURPOSE</th>\n",
       "    </tr>\n",
       "  </thead>\n",
       "  <tbody>\n",
       "    <tr>\n",
       "      <th>0</th>\n",
       "      <td>01-01-2016 21:11</td>\n",
       "      <td>01-01-2016 21:17</td>\n",
       "      <td>Business</td>\n",
       "      <td>Fort Pierce</td>\n",
       "      <td>Fort Pierce</td>\n",
       "      <td>5.1</td>\n",
       "      <td>Meal/Entertain</td>\n",
       "    </tr>\n",
       "    <tr>\n",
       "      <th>1</th>\n",
       "      <td>01-02-2016 01:25</td>\n",
       "      <td>01-02-2016 01:37</td>\n",
       "      <td>Business</td>\n",
       "      <td>Fort Pierce</td>\n",
       "      <td>Fort Pierce</td>\n",
       "      <td>5.0</td>\n",
       "      <td>NaN</td>\n",
       "    </tr>\n",
       "    <tr>\n",
       "      <th>2</th>\n",
       "      <td>01-02-2016 20:25</td>\n",
       "      <td>01-02-2016 20:38</td>\n",
       "      <td>Business</td>\n",
       "      <td>Fort Pierce</td>\n",
       "      <td>Fort Pierce</td>\n",
       "      <td>4.8</td>\n",
       "      <td>Errand/Supplies</td>\n",
       "    </tr>\n",
       "    <tr>\n",
       "      <th>3</th>\n",
       "      <td>01-05-2016 17:31</td>\n",
       "      <td>01-05-2016 17:45</td>\n",
       "      <td>Business</td>\n",
       "      <td>Fort Pierce</td>\n",
       "      <td>Fort Pierce</td>\n",
       "      <td>4.7</td>\n",
       "      <td>Meeting</td>\n",
       "    </tr>\n",
       "    <tr>\n",
       "      <th>4</th>\n",
       "      <td>01-06-2016 14:42</td>\n",
       "      <td>01-06-2016 15:49</td>\n",
       "      <td>Business</td>\n",
       "      <td>Fort Pierce</td>\n",
       "      <td>West Palm Beach</td>\n",
       "      <td>63.7</td>\n",
       "      <td>Customer Visit</td>\n",
       "    </tr>\n",
       "  </tbody>\n",
       "</table>\n",
       "</div>"
      ],
      "text/plain": [
       "         START_DATE          END_DATE  CATEGORY        START             STOP  \\\n",
       "0  01-01-2016 21:11  01-01-2016 21:17  Business  Fort Pierce      Fort Pierce   \n",
       "1  01-02-2016 01:25  01-02-2016 01:37  Business  Fort Pierce      Fort Pierce   \n",
       "2  01-02-2016 20:25  01-02-2016 20:38  Business  Fort Pierce      Fort Pierce   \n",
       "3  01-05-2016 17:31  01-05-2016 17:45  Business  Fort Pierce      Fort Pierce   \n",
       "4  01-06-2016 14:42  01-06-2016 15:49  Business  Fort Pierce  West Palm Beach   \n",
       "\n",
       "   MILES          PURPOSE  \n",
       "0    5.1   Meal/Entertain  \n",
       "1    5.0              NaN  \n",
       "2    4.8  Errand/Supplies  \n",
       "3    4.7          Meeting  \n",
       "4   63.7   Customer Visit  "
      ]
     },
     "execution_count": 59,
     "metadata": {},
     "output_type": "execute_result"
    }
   ],
   "source": [
    "df.head()"
   ]
  },
  {
   "cell_type": "code",
   "execution_count": 60,
   "id": "97d256d9",
   "metadata": {},
   "outputs": [
    {
     "data": {
      "text/html": [
       "<div>\n",
       "<style scoped>\n",
       "    .dataframe tbody tr th:only-of-type {\n",
       "        vertical-align: middle;\n",
       "    }\n",
       "\n",
       "    .dataframe tbody tr th {\n",
       "        vertical-align: top;\n",
       "    }\n",
       "\n",
       "    .dataframe thead th {\n",
       "        text-align: right;\n",
       "    }\n",
       "</style>\n",
       "<table border=\"1\" class=\"dataframe\">\n",
       "  <thead>\n",
       "    <tr style=\"text-align: right;\">\n",
       "      <th></th>\n",
       "      <th>START_DATE</th>\n",
       "      <th>END_DATE</th>\n",
       "      <th>CATEGORY</th>\n",
       "      <th>START</th>\n",
       "      <th>STOP</th>\n",
       "      <th>MILES</th>\n",
       "      <th>PURPOSE</th>\n",
       "    </tr>\n",
       "  </thead>\n",
       "  <tbody>\n",
       "    <tr>\n",
       "      <th>1151</th>\n",
       "      <td>12/31/2016 13:24</td>\n",
       "      <td>12/31/2016 13:42</td>\n",
       "      <td>Business</td>\n",
       "      <td>Kar?chi</td>\n",
       "      <td>Unknown Location</td>\n",
       "      <td>3.9</td>\n",
       "      <td>Temporary Site</td>\n",
       "    </tr>\n",
       "    <tr>\n",
       "      <th>1152</th>\n",
       "      <td>12/31/2016 15:03</td>\n",
       "      <td>12/31/2016 15:38</td>\n",
       "      <td>Business</td>\n",
       "      <td>Unknown Location</td>\n",
       "      <td>Unknown Location</td>\n",
       "      <td>16.2</td>\n",
       "      <td>Meeting</td>\n",
       "    </tr>\n",
       "    <tr>\n",
       "      <th>1153</th>\n",
       "      <td>12/31/2016 21:32</td>\n",
       "      <td>12/31/2016 21:50</td>\n",
       "      <td>Business</td>\n",
       "      <td>Katunayake</td>\n",
       "      <td>Gampaha</td>\n",
       "      <td>6.4</td>\n",
       "      <td>Temporary Site</td>\n",
       "    </tr>\n",
       "    <tr>\n",
       "      <th>1154</th>\n",
       "      <td>12/31/2016 22:08</td>\n",
       "      <td>12/31/2016 23:51</td>\n",
       "      <td>Business</td>\n",
       "      <td>Gampaha</td>\n",
       "      <td>Ilukwatta</td>\n",
       "      <td>48.2</td>\n",
       "      <td>Temporary Site</td>\n",
       "    </tr>\n",
       "    <tr>\n",
       "      <th>1155</th>\n",
       "      <td>Totals</td>\n",
       "      <td>NaN</td>\n",
       "      <td>NaN</td>\n",
       "      <td>NaN</td>\n",
       "      <td>NaN</td>\n",
       "      <td>12204.7</td>\n",
       "      <td>NaN</td>\n",
       "    </tr>\n",
       "  </tbody>\n",
       "</table>\n",
       "</div>"
      ],
      "text/plain": [
       "            START_DATE          END_DATE  CATEGORY             START  \\\n",
       "1151  12/31/2016 13:24  12/31/2016 13:42  Business           Kar?chi   \n",
       "1152  12/31/2016 15:03  12/31/2016 15:38  Business  Unknown Location   \n",
       "1153  12/31/2016 21:32  12/31/2016 21:50  Business        Katunayake   \n",
       "1154  12/31/2016 22:08  12/31/2016 23:51  Business           Gampaha   \n",
       "1155            Totals               NaN       NaN               NaN   \n",
       "\n",
       "                  STOP    MILES         PURPOSE  \n",
       "1151  Unknown Location      3.9  Temporary Site  \n",
       "1152  Unknown Location     16.2         Meeting  \n",
       "1153           Gampaha      6.4  Temporary Site  \n",
       "1154         Ilukwatta     48.2  Temporary Site  \n",
       "1155               NaN  12204.7             NaN  "
      ]
     },
     "execution_count": 60,
     "metadata": {},
     "output_type": "execute_result"
    }
   ],
   "source": [
    "df.tail()"
   ]
  },
  {
   "cell_type": "markdown",
   "id": "7a7a26d6",
   "metadata": {
    "papermill": {
     "duration": 0.025692,
     "end_time": "2023-09-05T11:55:27.816278",
     "exception": false,
     "start_time": "2023-09-05T11:55:27.790586",
     "status": "completed"
    },
    "tags": []
   },
   "source": [
    "Apparently, we have an unnecessary record in the index 1155. Thus we are going to drop them."
   ]
  },
  {
   "cell_type": "code",
   "execution_count": 61,
   "id": "b4ff0fad",
   "metadata": {
    "execution": {
     "iopub.execute_input": "2023-09-05T11:55:27.871299Z",
     "iopub.status.busy": "2023-09-05T11:55:27.870598Z",
     "iopub.status.idle": "2023-09-05T11:55:27.877039Z",
     "shell.execute_reply": "2023-09-05T11:55:27.876215Z"
    },
    "papermill": {
     "duration": 0.037104,
     "end_time": "2023-09-05T11:55:27.879393",
     "exception": false,
     "start_time": "2023-09-05T11:55:27.842289",
     "status": "completed"
    },
    "tags": []
   },
   "outputs": [],
   "source": [
    "# Droping record with index 1155\n",
    "df.drop(index=1155, axis=0, inplace=True)"
   ]
  },
  {
   "cell_type": "code",
   "execution_count": 62,
   "id": "06704124",
   "metadata": {
    "execution": {
     "iopub.execute_input": "2023-09-05T11:55:27.934107Z",
     "iopub.status.busy": "2023-09-05T11:55:27.933460Z",
     "iopub.status.idle": "2023-09-05T11:55:27.947821Z",
     "shell.execute_reply": "2023-09-05T11:55:27.946557Z"
    },
    "papermill": {
     "duration": 0.044636,
     "end_time": "2023-09-05T11:55:27.950335",
     "exception": false,
     "start_time": "2023-09-05T11:55:27.905699",
     "status": "completed"
    },
    "tags": []
   },
   "outputs": [
    {
     "data": {
      "text/html": [
       "<div>\n",
       "<style scoped>\n",
       "    .dataframe tbody tr th:only-of-type {\n",
       "        vertical-align: middle;\n",
       "    }\n",
       "\n",
       "    .dataframe tbody tr th {\n",
       "        vertical-align: top;\n",
       "    }\n",
       "\n",
       "    .dataframe thead th {\n",
       "        text-align: right;\n",
       "    }\n",
       "</style>\n",
       "<table border=\"1\" class=\"dataframe\">\n",
       "  <thead>\n",
       "    <tr style=\"text-align: right;\">\n",
       "      <th></th>\n",
       "      <th>START_DATE</th>\n",
       "      <th>END_DATE</th>\n",
       "      <th>CATEGORY</th>\n",
       "      <th>START</th>\n",
       "      <th>STOP</th>\n",
       "      <th>MILES</th>\n",
       "      <th>PURPOSE</th>\n",
       "    </tr>\n",
       "  </thead>\n",
       "  <tbody>\n",
       "    <tr>\n",
       "      <th>1150</th>\n",
       "      <td>12/31/2016 1:07</td>\n",
       "      <td>12/31/2016 1:14</td>\n",
       "      <td>Business</td>\n",
       "      <td>Kar?chi</td>\n",
       "      <td>Kar?chi</td>\n",
       "      <td>0.7</td>\n",
       "      <td>Meeting</td>\n",
       "    </tr>\n",
       "    <tr>\n",
       "      <th>1151</th>\n",
       "      <td>12/31/2016 13:24</td>\n",
       "      <td>12/31/2016 13:42</td>\n",
       "      <td>Business</td>\n",
       "      <td>Kar?chi</td>\n",
       "      <td>Unknown Location</td>\n",
       "      <td>3.9</td>\n",
       "      <td>Temporary Site</td>\n",
       "    </tr>\n",
       "    <tr>\n",
       "      <th>1152</th>\n",
       "      <td>12/31/2016 15:03</td>\n",
       "      <td>12/31/2016 15:38</td>\n",
       "      <td>Business</td>\n",
       "      <td>Unknown Location</td>\n",
       "      <td>Unknown Location</td>\n",
       "      <td>16.2</td>\n",
       "      <td>Meeting</td>\n",
       "    </tr>\n",
       "    <tr>\n",
       "      <th>1153</th>\n",
       "      <td>12/31/2016 21:32</td>\n",
       "      <td>12/31/2016 21:50</td>\n",
       "      <td>Business</td>\n",
       "      <td>Katunayake</td>\n",
       "      <td>Gampaha</td>\n",
       "      <td>6.4</td>\n",
       "      <td>Temporary Site</td>\n",
       "    </tr>\n",
       "    <tr>\n",
       "      <th>1154</th>\n",
       "      <td>12/31/2016 22:08</td>\n",
       "      <td>12/31/2016 23:51</td>\n",
       "      <td>Business</td>\n",
       "      <td>Gampaha</td>\n",
       "      <td>Ilukwatta</td>\n",
       "      <td>48.2</td>\n",
       "      <td>Temporary Site</td>\n",
       "    </tr>\n",
       "  </tbody>\n",
       "</table>\n",
       "</div>"
      ],
      "text/plain": [
       "            START_DATE          END_DATE  CATEGORY             START  \\\n",
       "1150   12/31/2016 1:07   12/31/2016 1:14  Business           Kar?chi   \n",
       "1151  12/31/2016 13:24  12/31/2016 13:42  Business           Kar?chi   \n",
       "1152  12/31/2016 15:03  12/31/2016 15:38  Business  Unknown Location   \n",
       "1153  12/31/2016 21:32  12/31/2016 21:50  Business        Katunayake   \n",
       "1154  12/31/2016 22:08  12/31/2016 23:51  Business           Gampaha   \n",
       "\n",
       "                  STOP  MILES         PURPOSE  \n",
       "1150           Kar?chi    0.7         Meeting  \n",
       "1151  Unknown Location    3.9  Temporary Site  \n",
       "1152  Unknown Location   16.2         Meeting  \n",
       "1153           Gampaha    6.4  Temporary Site  \n",
       "1154         Ilukwatta   48.2  Temporary Site  "
      ]
     },
     "execution_count": 62,
     "metadata": {},
     "output_type": "execute_result"
    }
   ],
   "source": [
    "# Checking data\n",
    "df.tail()"
   ]
  },
  {
   "cell_type": "code",
   "execution_count": 63,
   "id": "226896a2",
   "metadata": {
    "execution": {
     "iopub.execute_input": "2023-09-05T11:55:28.005036Z",
     "iopub.status.busy": "2023-09-05T11:55:28.004603Z",
     "iopub.status.idle": "2023-09-05T11:55:28.012730Z",
     "shell.execute_reply": "2023-09-05T11:55:28.011591Z"
    },
    "papermill": {
     "duration": 0.038208,
     "end_time": "2023-09-05T11:55:28.015025",
     "exception": false,
     "start_time": "2023-09-05T11:55:27.976817",
     "status": "completed"
    },
    "tags": []
   },
   "outputs": [
    {
     "data": {
      "text/plain": [
       "START_DATE     object\n",
       "END_DATE       object\n",
       "CATEGORY       object\n",
       "START          object\n",
       "STOP           object\n",
       "MILES         float64\n",
       "PURPOSE        object\n",
       "dtype: object"
      ]
     },
     "execution_count": 63,
     "metadata": {},
     "output_type": "execute_result"
    }
   ],
   "source": [
    "# Checking datatypes\n",
    "df.dtypes"
   ]
  },
  {
   "cell_type": "markdown",
   "id": "b4084ac8",
   "metadata": {
    "papermill": {
     "duration": 0.026155,
     "end_time": "2023-09-05T11:55:28.067683",
     "exception": false,
     "start_time": "2023-09-05T11:55:28.041528",
     "status": "completed"
    },
    "tags": []
   },
   "source": [
    "- We have the `START_DATE` and the `END_DATE` column in our data that consists of the date and timestamp of each Uber trip.\n",
    "- These columns are still having `object` datatypes.\n",
    "- To ease our analysis, we are going to change their data types from object to datetime."
   ]
  },
  {
   "cell_type": "markdown",
   "id": "c8e39728",
   "metadata": {
    "papermill": {
     "duration": 0.028199,
     "end_time": "2023-09-05T11:55:28.122423",
     "exception": false,
     "start_time": "2023-09-05T11:55:28.094224",
     "status": "completed"
    },
    "tags": []
   },
   "source": [
    "## Converting necessary column to datetime object"
   ]
  },
  {
   "cell_type": "code",
   "execution_count": 64,
   "id": "a92c9f12",
   "metadata": {
    "execution": {
     "iopub.execute_input": "2023-09-05T11:55:28.178598Z",
     "iopub.status.busy": "2023-09-05T11:55:28.177896Z",
     "iopub.status.idle": "2023-09-05T11:55:28.453590Z",
     "shell.execute_reply": "2023-09-05T11:55:28.452228Z"
    },
    "papermill": {
     "duration": 0.306901,
     "end_time": "2023-09-05T11:55:28.456409",
     "exception": false,
     "start_time": "2023-09-05T11:55:28.149508",
     "status": "completed"
    },
    "tags": []
   },
   "outputs": [],
   "source": [
    "# Converting START_DATE datatypes  (# infer_datetime_format=True, utc=True)\n",
    "df['START_DATE'] = pd.to_datetime(df['START_DATE'])  \n",
    "\n",
    "# Converting END_DATE datatypes\n",
    "df['END_DATE'] = pd.to_datetime(df['END_DATE'])"
   ]
  },
  {
   "cell_type": "code",
   "execution_count": 65,
   "id": "a85b2754",
   "metadata": {
    "execution": {
     "iopub.execute_input": "2023-09-05T11:55:28.511886Z",
     "iopub.status.busy": "2023-09-05T11:55:28.511504Z",
     "iopub.status.idle": "2023-09-05T11:55:28.519577Z",
     "shell.execute_reply": "2023-09-05T11:55:28.518269Z"
    },
    "papermill": {
     "duration": 0.038991,
     "end_time": "2023-09-05T11:55:28.522143",
     "exception": false,
     "start_time": "2023-09-05T11:55:28.483152",
     "status": "completed"
    },
    "tags": []
   },
   "outputs": [
    {
     "data": {
      "text/plain": [
       "START_DATE    datetime64[ns]\n",
       "END_DATE      datetime64[ns]\n",
       "CATEGORY              object\n",
       "START                 object\n",
       "STOP                  object\n",
       "MILES                float64\n",
       "PURPOSE               object\n",
       "dtype: object"
      ]
     },
     "execution_count": 65,
     "metadata": {},
     "output_type": "execute_result"
    }
   ],
   "source": [
    "# Checking changes\n",
    "df.dtypes"
   ]
  },
  {
   "cell_type": "markdown",
   "id": "4916f9b4",
   "metadata": {
    "execution": {
     "iopub.execute_input": "2023-07-28T06:17:37.915076Z",
     "iopub.status.busy": "2023-07-28T06:17:37.914392Z",
     "iopub.status.idle": "2023-07-28T06:17:37.927878Z",
     "shell.execute_reply": "2023-07-28T06:17:37.924096Z",
     "shell.execute_reply.started": "2023-07-28T06:17:37.915016Z"
    },
    "papermill": {
     "duration": 0.028702,
     "end_time": "2023-09-05T11:55:28.578149",
     "exception": false,
     "start_time": "2023-09-05T11:55:28.549447",
     "status": "completed"
    },
    "tags": []
   },
   "source": [
    "- Okay so now all columns have their data types the way we desired.\n",
    "- However, we are going to rename columns `START` and `STOP` to `START_POINT` and `STOP_POINT` respectively so that it can be more self-explaining."
   ]
  },
  {
   "cell_type": "markdown",
   "id": "23f0a3a6",
   "metadata": {
    "papermill": {
     "duration": 0.028511,
     "end_time": "2023-09-05T11:55:28.634454",
     "exception": false,
     "start_time": "2023-09-05T11:55:28.605943",
     "status": "completed"
    },
    "tags": []
   },
   "source": [
    "## Renaming columns"
   ]
  },
  {
   "cell_type": "code",
   "execution_count": 66,
   "id": "c56b1a7c",
   "metadata": {
    "execution": {
     "iopub.execute_input": "2023-09-05T11:55:28.692564Z",
     "iopub.status.busy": "2023-09-05T11:55:28.690936Z",
     "iopub.status.idle": "2023-09-05T11:55:28.700492Z",
     "shell.execute_reply": "2023-09-05T11:55:28.699420Z"
    },
    "papermill": {
     "duration": 0.040965,
     "end_time": "2023-09-05T11:55:28.702968",
     "exception": false,
     "start_time": "2023-09-05T11:55:28.662003",
     "status": "completed"
    },
    "tags": []
   },
   "outputs": [],
   "source": [
    "# Renaming columns\n",
    "df.rename(columns={'START': 'START_POINT', 'STOP': 'STOP_POINT'}, inplace=True)"
   ]
  },
  {
   "cell_type": "code",
   "execution_count": 67,
   "id": "29054666",
   "metadata": {
    "_kg_hide-output": true,
    "execution": {
     "iopub.execute_input": "2023-09-05T11:55:28.761119Z",
     "iopub.status.busy": "2023-09-05T11:55:28.760053Z",
     "iopub.status.idle": "2023-09-05T11:55:28.787929Z",
     "shell.execute_reply": "2023-09-05T11:55:28.785443Z"
    },
    "papermill": {
     "duration": 0.06105,
     "end_time": "2023-09-05T11:55:28.792184",
     "exception": false,
     "start_time": "2023-09-05T11:55:28.731134",
     "status": "completed"
    },
    "tags": []
   },
   "outputs": [
    {
     "data": {
      "text/html": [
       "<div>\n",
       "<style scoped>\n",
       "    .dataframe tbody tr th:only-of-type {\n",
       "        vertical-align: middle;\n",
       "    }\n",
       "\n",
       "    .dataframe tbody tr th {\n",
       "        vertical-align: top;\n",
       "    }\n",
       "\n",
       "    .dataframe thead th {\n",
       "        text-align: right;\n",
       "    }\n",
       "</style>\n",
       "<table border=\"1\" class=\"dataframe\">\n",
       "  <thead>\n",
       "    <tr style=\"text-align: right;\">\n",
       "      <th></th>\n",
       "      <th>START_DATE</th>\n",
       "      <th>END_DATE</th>\n",
       "      <th>CATEGORY</th>\n",
       "      <th>START_POINT</th>\n",
       "      <th>STOP_POINT</th>\n",
       "      <th>MILES</th>\n",
       "      <th>PURPOSE</th>\n",
       "    </tr>\n",
       "  </thead>\n",
       "  <tbody>\n",
       "    <tr>\n",
       "      <th>0</th>\n",
       "      <td>2016-01-01 21:11:00</td>\n",
       "      <td>2016-01-01 21:17:00</td>\n",
       "      <td>Business</td>\n",
       "      <td>Fort Pierce</td>\n",
       "      <td>Fort Pierce</td>\n",
       "      <td>5.1</td>\n",
       "      <td>Meal/Entertain</td>\n",
       "    </tr>\n",
       "    <tr>\n",
       "      <th>1</th>\n",
       "      <td>2016-01-02 01:25:00</td>\n",
       "      <td>2016-01-02 01:37:00</td>\n",
       "      <td>Business</td>\n",
       "      <td>Fort Pierce</td>\n",
       "      <td>Fort Pierce</td>\n",
       "      <td>5.0</td>\n",
       "      <td>NaN</td>\n",
       "    </tr>\n",
       "    <tr>\n",
       "      <th>2</th>\n",
       "      <td>2016-01-02 20:25:00</td>\n",
       "      <td>2016-01-02 20:38:00</td>\n",
       "      <td>Business</td>\n",
       "      <td>Fort Pierce</td>\n",
       "      <td>Fort Pierce</td>\n",
       "      <td>4.8</td>\n",
       "      <td>Errand/Supplies</td>\n",
       "    </tr>\n",
       "    <tr>\n",
       "      <th>3</th>\n",
       "      <td>2016-01-05 17:31:00</td>\n",
       "      <td>2016-01-05 17:45:00</td>\n",
       "      <td>Business</td>\n",
       "      <td>Fort Pierce</td>\n",
       "      <td>Fort Pierce</td>\n",
       "      <td>4.7</td>\n",
       "      <td>Meeting</td>\n",
       "    </tr>\n",
       "    <tr>\n",
       "      <th>4</th>\n",
       "      <td>2016-01-06 14:42:00</td>\n",
       "      <td>2016-01-06 15:49:00</td>\n",
       "      <td>Business</td>\n",
       "      <td>Fort Pierce</td>\n",
       "      <td>West Palm Beach</td>\n",
       "      <td>63.7</td>\n",
       "      <td>Customer Visit</td>\n",
       "    </tr>\n",
       "    <tr>\n",
       "      <th>...</th>\n",
       "      <td>...</td>\n",
       "      <td>...</td>\n",
       "      <td>...</td>\n",
       "      <td>...</td>\n",
       "      <td>...</td>\n",
       "      <td>...</td>\n",
       "      <td>...</td>\n",
       "    </tr>\n",
       "    <tr>\n",
       "      <th>1150</th>\n",
       "      <td>2016-12-31 01:07:00</td>\n",
       "      <td>2016-12-31 01:14:00</td>\n",
       "      <td>Business</td>\n",
       "      <td>Kar?chi</td>\n",
       "      <td>Kar?chi</td>\n",
       "      <td>0.7</td>\n",
       "      <td>Meeting</td>\n",
       "    </tr>\n",
       "    <tr>\n",
       "      <th>1151</th>\n",
       "      <td>2016-12-31 13:24:00</td>\n",
       "      <td>2016-12-31 13:42:00</td>\n",
       "      <td>Business</td>\n",
       "      <td>Kar?chi</td>\n",
       "      <td>Unknown Location</td>\n",
       "      <td>3.9</td>\n",
       "      <td>Temporary Site</td>\n",
       "    </tr>\n",
       "    <tr>\n",
       "      <th>1152</th>\n",
       "      <td>2016-12-31 15:03:00</td>\n",
       "      <td>2016-12-31 15:38:00</td>\n",
       "      <td>Business</td>\n",
       "      <td>Unknown Location</td>\n",
       "      <td>Unknown Location</td>\n",
       "      <td>16.2</td>\n",
       "      <td>Meeting</td>\n",
       "    </tr>\n",
       "    <tr>\n",
       "      <th>1153</th>\n",
       "      <td>2016-12-31 21:32:00</td>\n",
       "      <td>2016-12-31 21:50:00</td>\n",
       "      <td>Business</td>\n",
       "      <td>Katunayake</td>\n",
       "      <td>Gampaha</td>\n",
       "      <td>6.4</td>\n",
       "      <td>Temporary Site</td>\n",
       "    </tr>\n",
       "    <tr>\n",
       "      <th>1154</th>\n",
       "      <td>2016-12-31 22:08:00</td>\n",
       "      <td>2016-12-31 23:51:00</td>\n",
       "      <td>Business</td>\n",
       "      <td>Gampaha</td>\n",
       "      <td>Ilukwatta</td>\n",
       "      <td>48.2</td>\n",
       "      <td>Temporary Site</td>\n",
       "    </tr>\n",
       "  </tbody>\n",
       "</table>\n",
       "<p>1155 rows × 7 columns</p>\n",
       "</div>"
      ],
      "text/plain": [
       "              START_DATE            END_DATE  CATEGORY       START_POINT  \\\n",
       "0    2016-01-01 21:11:00 2016-01-01 21:17:00  Business       Fort Pierce   \n",
       "1    2016-01-02 01:25:00 2016-01-02 01:37:00  Business       Fort Pierce   \n",
       "2    2016-01-02 20:25:00 2016-01-02 20:38:00  Business       Fort Pierce   \n",
       "3    2016-01-05 17:31:00 2016-01-05 17:45:00  Business       Fort Pierce   \n",
       "4    2016-01-06 14:42:00 2016-01-06 15:49:00  Business       Fort Pierce   \n",
       "...                  ...                 ...       ...               ...   \n",
       "1150 2016-12-31 01:07:00 2016-12-31 01:14:00  Business           Kar?chi   \n",
       "1151 2016-12-31 13:24:00 2016-12-31 13:42:00  Business           Kar?chi   \n",
       "1152 2016-12-31 15:03:00 2016-12-31 15:38:00  Business  Unknown Location   \n",
       "1153 2016-12-31 21:32:00 2016-12-31 21:50:00  Business        Katunayake   \n",
       "1154 2016-12-31 22:08:00 2016-12-31 23:51:00  Business           Gampaha   \n",
       "\n",
       "            STOP_POINT  MILES          PURPOSE  \n",
       "0          Fort Pierce    5.1   Meal/Entertain  \n",
       "1          Fort Pierce    5.0              NaN  \n",
       "2          Fort Pierce    4.8  Errand/Supplies  \n",
       "3          Fort Pierce    4.7          Meeting  \n",
       "4      West Palm Beach   63.7   Customer Visit  \n",
       "...                ...    ...              ...  \n",
       "1150           Kar?chi    0.7          Meeting  \n",
       "1151  Unknown Location    3.9   Temporary Site  \n",
       "1152  Unknown Location   16.2          Meeting  \n",
       "1153           Gampaha    6.4   Temporary Site  \n",
       "1154         Ilukwatta   48.2   Temporary Site  \n",
       "\n",
       "[1155 rows x 7 columns]"
      ]
     },
     "execution_count": 67,
     "metadata": {},
     "output_type": "execute_result"
    }
   ],
   "source": [
    "# Checking dataframe\n",
    "df"
   ]
  },
  {
   "cell_type": "markdown",
   "id": "28d3174f",
   "metadata": {
    "papermill": {
     "duration": 0.035786,
     "end_time": "2023-09-05T11:55:28.865025",
     "exception": false,
     "start_time": "2023-09-05T11:55:28.829239",
     "status": "completed"
    },
    "tags": []
   },
   "source": [
    "# Cleaning the data"
   ]
  },
  {
   "cell_type": "markdown",
   "id": "e6d129f6",
   "metadata": {
    "papermill": {
     "duration": 0.038072,
     "end_time": "2023-09-05T11:55:28.941711",
     "exception": false,
     "start_time": "2023-09-05T11:55:28.903639",
     "status": "completed"
    },
    "tags": []
   },
   "source": [
    "## Checking duplicated values"
   ]
  },
  {
   "cell_type": "markdown",
   "id": "ad273305",
   "metadata": {
    "papermill": {
     "duration": 0.038979,
     "end_time": "2023-09-05T11:55:29.019477",
     "exception": false,
     "start_time": "2023-09-05T11:55:28.980498",
     "status": "completed"
    },
    "tags": []
   },
   "source": [
    "Creating function to check and remove duplicates."
   ]
  },
  {
   "cell_type": "code",
   "execution_count": 68,
   "id": "acfe38d7",
   "metadata": {
    "_kg_hide-input": true,
    "execution": {
     "iopub.execute_input": "2023-09-05T11:55:29.083133Z",
     "iopub.status.busy": "2023-09-05T11:55:29.081926Z",
     "iopub.status.idle": "2023-09-05T11:55:29.091832Z",
     "shell.execute_reply": "2023-09-05T11:55:29.090229Z"
    },
    "papermill": {
     "duration": 0.042901,
     "end_time": "2023-09-05T11:55:29.094811",
     "exception": false,
     "start_time": "2023-09-05T11:55:29.051910",
     "status": "completed"
    },
    "tags": []
   },
   "outputs": [],
   "source": [
    "# Creating function to check and remove duplicates\n",
    "def duplicateVal(df):\n",
    "    # Checking shape before dropping duplicates\n",
    "    before_drop = df.shape\n",
    "    print(f'shape before dropping duplicate: {before_drop}')\n",
    "\n",
    "    # Calculating total duplicated data\n",
    "    total_duplicate = df.duplicated().sum()\n",
    "    print(f'Total duplicated records: {total_duplicate}')\n",
    "\n",
    "    # Dropping duplicated data\n",
    "    df = df.drop_duplicates()\n",
    "\n",
    "    # Checking shape after dropping duplicates\n",
    "    after_drop = df.shape\n",
    "    print(f'shape before dropping duplicate: {after_drop}')\n",
    "    \n",
    "    # Returning dataframe after droping duplicate\n",
    "    return df"
   ]
  },
  {
   "cell_type": "code",
   "execution_count": 69,
   "id": "ac25e06c",
   "metadata": {
    "execution": {
     "iopub.execute_input": "2023-09-05T11:55:29.154686Z",
     "iopub.status.busy": "2023-09-05T11:55:29.153538Z",
     "iopub.status.idle": "2023-09-05T11:55:29.171932Z",
     "shell.execute_reply": "2023-09-05T11:55:29.170766Z"
    },
    "papermill": {
     "duration": 0.051058,
     "end_time": "2023-09-05T11:55:29.174604",
     "exception": false,
     "start_time": "2023-09-05T11:55:29.123546",
     "status": "completed"
    },
    "tags": []
   },
   "outputs": [
    {
     "name": "stdout",
     "output_type": "stream",
     "text": [
      "shape before dropping duplicate: (1155, 7)\n",
      "Total duplicated records: 1\n",
      "shape before dropping duplicate: (1154, 7)\n"
     ]
    }
   ],
   "source": [
    "df = duplicateVal(df)"
   ]
  },
  {
   "cell_type": "markdown",
   "id": "db50023c",
   "metadata": {
    "papermill": {
     "duration": 0.027915,
     "end_time": "2023-09-05T11:55:29.236344",
     "exception": false,
     "start_time": "2023-09-05T11:55:29.208429",
     "status": "completed"
    },
    "tags": []
   },
   "source": [
    "Okay we have dropped the duplicated values"
   ]
  },
  {
   "cell_type": "markdown",
   "id": "4a38e141",
   "metadata": {
    "papermill": {
     "duration": 0.032035,
     "end_time": "2023-09-05T11:55:29.295647",
     "exception": false,
     "start_time": "2023-09-05T11:55:29.263612",
     "status": "completed"
    },
    "tags": []
   },
   "source": [
    "## Checking missing values"
   ]
  },
  {
   "cell_type": "code",
   "execution_count": 70,
   "id": "e7e7ef65",
   "metadata": {
    "_kg_hide-input": true,
    "execution": {
     "iopub.execute_input": "2023-09-05T11:55:29.357655Z",
     "iopub.status.busy": "2023-09-05T11:55:29.356502Z",
     "iopub.status.idle": "2023-09-05T11:55:29.364783Z",
     "shell.execute_reply": "2023-09-05T11:55:29.363543Z"
    },
    "papermill": {
     "duration": 0.044476,
     "end_time": "2023-09-05T11:55:29.370444",
     "exception": false,
     "start_time": "2023-09-05T11:55:29.325968",
     "status": "completed"
    },
    "tags": []
   },
   "outputs": [],
   "source": [
    "# Creating function to check null values\n",
    "def missVal(data):\n",
    "    # Calculating total missing values in each column\n",
    "    total = data.isna().sum().sort_values(ascending=False)\n",
    "    \n",
    "    # Calculating missing value percentage in each column\n",
    "    percent = total/len(data)\n",
    "    \n",
    "    # Returning result\n",
    "    return pd.concat([total, percent], keys=['Total', 'Missing Persentage'], axis=1)"
   ]
  },
  {
   "cell_type": "code",
   "execution_count": 71,
   "id": "0c1a900a",
   "metadata": {
    "execution": {
     "iopub.execute_input": "2023-09-05T11:55:29.427180Z",
     "iopub.status.busy": "2023-09-05T11:55:29.426726Z",
     "iopub.status.idle": "2023-09-05T11:55:29.444943Z",
     "shell.execute_reply": "2023-09-05T11:55:29.443569Z"
    },
    "papermill": {
     "duration": 0.050098,
     "end_time": "2023-09-05T11:55:29.448022",
     "exception": false,
     "start_time": "2023-09-05T11:55:29.397924",
     "status": "completed"
    },
    "tags": []
   },
   "outputs": [
    {
     "data": {
      "text/html": [
       "<div>\n",
       "<style scoped>\n",
       "    .dataframe tbody tr th:only-of-type {\n",
       "        vertical-align: middle;\n",
       "    }\n",
       "\n",
       "    .dataframe tbody tr th {\n",
       "        vertical-align: top;\n",
       "    }\n",
       "\n",
       "    .dataframe thead th {\n",
       "        text-align: right;\n",
       "    }\n",
       "</style>\n",
       "<table border=\"1\" class=\"dataframe\">\n",
       "  <thead>\n",
       "    <tr style=\"text-align: right;\">\n",
       "      <th></th>\n",
       "      <th>Total</th>\n",
       "      <th>Missing Persentage</th>\n",
       "    </tr>\n",
       "  </thead>\n",
       "  <tbody>\n",
       "    <tr>\n",
       "      <th>PURPOSE</th>\n",
       "      <td>502</td>\n",
       "      <td>0.435009</td>\n",
       "    </tr>\n",
       "    <tr>\n",
       "      <th>START_DATE</th>\n",
       "      <td>0</td>\n",
       "      <td>0.000000</td>\n",
       "    </tr>\n",
       "    <tr>\n",
       "      <th>END_DATE</th>\n",
       "      <td>0</td>\n",
       "      <td>0.000000</td>\n",
       "    </tr>\n",
       "    <tr>\n",
       "      <th>CATEGORY</th>\n",
       "      <td>0</td>\n",
       "      <td>0.000000</td>\n",
       "    </tr>\n",
       "    <tr>\n",
       "      <th>START_POINT</th>\n",
       "      <td>0</td>\n",
       "      <td>0.000000</td>\n",
       "    </tr>\n",
       "    <tr>\n",
       "      <th>STOP_POINT</th>\n",
       "      <td>0</td>\n",
       "      <td>0.000000</td>\n",
       "    </tr>\n",
       "    <tr>\n",
       "      <th>MILES</th>\n",
       "      <td>0</td>\n",
       "      <td>0.000000</td>\n",
       "    </tr>\n",
       "  </tbody>\n",
       "</table>\n",
       "</div>"
      ],
      "text/plain": [
       "             Total  Missing Persentage\n",
       "PURPOSE        502            0.435009\n",
       "START_DATE       0            0.000000\n",
       "END_DATE         0            0.000000\n",
       "CATEGORY         0            0.000000\n",
       "START_POINT      0            0.000000\n",
       "STOP_POINT       0            0.000000\n",
       "MILES            0            0.000000"
      ]
     },
     "execution_count": 71,
     "metadata": {},
     "output_type": "execute_result"
    }
   ],
   "source": [
    "# Checking null values\n",
    "missVal(df)"
   ]
  },
  {
   "cell_type": "markdown",
   "id": "efcbe2f1",
   "metadata": {
    "papermill": {
     "duration": 0.027554,
     "end_time": "2023-09-05T11:55:29.503346",
     "exception": false,
     "start_time": "2023-09-05T11:55:29.475792",
     "status": "completed"
    },
    "tags": []
   },
   "source": [
    "- Okay so we only have 1 column that has missing values and that is the `PURPOSE` column which has a total of 502 missing values or there are ~43% data missing.\n",
    "- Let's zoom in on the `PURPOSE` column."
   ]
  },
  {
   "cell_type": "code",
   "execution_count": 72,
   "id": "ee12d1a8",
   "metadata": {
    "execution": {
     "iopub.execute_input": "2023-09-05T11:55:29.562343Z",
     "iopub.status.busy": "2023-09-05T11:55:29.561251Z",
     "iopub.status.idle": "2023-09-05T11:55:29.575610Z",
     "shell.execute_reply": "2023-09-05T11:55:29.574167Z"
    },
    "papermill": {
     "duration": 0.046604,
     "end_time": "2023-09-05T11:55:29.578191",
     "exception": false,
     "start_time": "2023-09-05T11:55:29.531587",
     "status": "completed"
    },
    "tags": []
   },
   "outputs": [
    {
     "data": {
      "text/plain": [
       "Meeting            186\n",
       "Meal/Entertain     160\n",
       "Errand/Supplies    128\n",
       "Customer Visit     101\n",
       "Temporary Site      50\n",
       "Between Offices     18\n",
       "Moving               4\n",
       "Airport/Travel       3\n",
       "Charity ($)          1\n",
       "Commute              1\n",
       "Name: PURPOSE, dtype: int64"
      ]
     },
     "execution_count": 72,
     "metadata": {},
     "output_type": "execute_result"
    }
   ],
   "source": [
    "# Checking unique values in column PURPOSE\n",
    "df['PURPOSE'].value_counts()"
   ]
  },
  {
   "cell_type": "markdown",
   "id": "e600daf3",
   "metadata": {
    "papermill": {
     "duration": 0.030908,
     "end_time": "2023-09-05T11:55:29.637016",
     "exception": false,
     "start_time": "2023-09-05T11:55:29.606108",
     "status": "completed"
    },
    "tags": []
   },
   "source": [
    "- It looks like the `PURPOSE` column is just the detail or the note associated with the `CATEGORY` column."
   ]
  },
  {
   "cell_type": "code",
   "execution_count": 73,
   "id": "99f029ed",
   "metadata": {
    "execution": {
     "iopub.execute_input": "2023-09-05T11:55:29.695309Z",
     "iopub.status.busy": "2023-09-05T11:55:29.694365Z",
     "iopub.status.idle": "2023-09-05T11:55:29.705896Z",
     "shell.execute_reply": "2023-09-05T11:55:29.704355Z"
    },
    "papermill": {
     "duration": 0.043554,
     "end_time": "2023-09-05T11:55:29.708426",
     "exception": false,
     "start_time": "2023-09-05T11:55:29.664872",
     "status": "completed"
    },
    "tags": []
   },
   "outputs": [
    {
     "name": "stdout",
     "output_type": "stream",
     "text": [
      "Business    1077\n",
      "Personal      77\n",
      "Name: CATEGORY, dtype: int64\n",
      "\n",
      "Meeting            186\n",
      "Meal/Entertain     160\n",
      "Errand/Supplies    128\n",
      "Customer Visit     101\n",
      "Temporary Site      50\n",
      "Between Offices     18\n",
      "Moving               4\n",
      "Airport/Travel       3\n",
      "Charity ($)          1\n",
      "Commute              1\n",
      "Name: PURPOSE, dtype: int64\n",
      "\n"
     ]
    }
   ],
   "source": [
    "# Checking PURPOSE and CATEGORY columns unique values individually\n",
    "to_check = ['CATEGORY', 'PURPOSE']\n",
    "for col in to_check:\n",
    "    print(df[col].value_counts())\n",
    "    print('')"
   ]
  },
  {
   "cell_type": "code",
   "execution_count": 74,
   "id": "dc1d7a5d",
   "metadata": {
    "execution": {
     "iopub.execute_input": "2023-09-05T11:55:29.767035Z",
     "iopub.status.busy": "2023-09-05T11:55:29.766647Z",
     "iopub.status.idle": "2023-09-05T11:55:29.783657Z",
     "shell.execute_reply": "2023-09-05T11:55:29.782564Z"
    },
    "papermill": {
     "duration": 0.049068,
     "end_time": "2023-09-05T11:55:29.785862",
     "exception": false,
     "start_time": "2023-09-05T11:55:29.736794",
     "status": "completed"
    },
    "tags": []
   },
   "outputs": [
    {
     "data": {
      "text/plain": [
       "CATEGORY  PURPOSE        \n",
       "Business  Airport/Travel       3\n",
       "          Between Offices     18\n",
       "          Customer Visit     101\n",
       "          Errand/Supplies    128\n",
       "          Meal/Entertain     160\n",
       "          Meeting            186\n",
       "          Temporary Site      50\n",
       "Personal  Charity ($)          1\n",
       "          Commute              1\n",
       "          Moving               4\n",
       "dtype: int64"
      ]
     },
     "execution_count": 74,
     "metadata": {},
     "output_type": "execute_result"
    }
   ],
   "source": [
    "# Checking PURPOSE and CATEGORY columns combined unique values\n",
    "df[['CATEGORY', 'PURPOSE']].value_counts().sort_index(level=0, ascending=True)"
   ]
  },
  {
   "cell_type": "markdown",
   "id": "47700b6e",
   "metadata": {
    "papermill": {
     "duration": 0.027615,
     "end_time": "2023-09-05T11:55:29.841793",
     "exception": false,
     "start_time": "2023-09-05T11:55:29.814178",
     "status": "completed"
    },
    "tags": []
   },
   "source": [
    "- Actually, we can fill in the missing values in the `PURPOSE` column later by looking at some pattern in each `PURPOSE` category.\n",
    "- Or, other best practices suggest that missing values can be filled with 'UNKNOWN' value.\n",
    "- We also get additional information that `PURPOSE` column has rare values like `Charity`, `Commute`, `Moving`, `Airport/Travel`, and `Between Offices`\n",
    "- In the context of preparing data for machine learning, we have to do something with these rare values, as it can cause troubles and worsen the model performance in the future.\n",
    "- However, as my purpose for this session is to analyze and visualize the data, I will not take action on the missing values and the rare values."
   ]
  },
  {
   "cell_type": "markdown",
   "id": "a46b7ff1",
   "metadata": {
    "papermill": {
     "duration": 0.027699,
     "end_time": "2023-09-05T11:55:29.897365",
     "exception": false,
     "start_time": "2023-09-05T11:55:29.869666",
     "status": "completed"
    },
    "tags": []
   },
   "source": [
    "## Checking inconsistent data input (Categorical data)"
   ]
  },
  {
   "cell_type": "code",
   "execution_count": 75,
   "id": "64a00423",
   "metadata": {
    "execution": {
     "iopub.execute_input": "2023-09-05T11:55:29.956019Z",
     "iopub.status.busy": "2023-09-05T11:55:29.954853Z",
     "iopub.status.idle": "2023-09-05T11:55:29.964109Z",
     "shell.execute_reply": "2023-09-05T11:55:29.962756Z"
    },
    "papermill": {
     "duration": 0.042071,
     "end_time": "2023-09-05T11:55:29.967681",
     "exception": false,
     "start_time": "2023-09-05T11:55:29.925610",
     "status": "completed"
    },
    "tags": []
   },
   "outputs": [
    {
     "data": {
      "text/plain": [
       "START_DATE     datetime64[ns]\n",
       "END_DATE       datetime64[ns]\n",
       "CATEGORY               object\n",
       "START_POINT            object\n",
       "STOP_POINT             object\n",
       "MILES                 float64\n",
       "PURPOSE                object\n",
       "dtype: object"
      ]
     },
     "execution_count": 75,
     "metadata": {},
     "output_type": "execute_result"
    }
   ],
   "source": [
    "# Checking data types\n",
    "df.dtypes"
   ]
  },
  {
   "cell_type": "code",
   "execution_count": 76,
   "id": "9b6963fe",
   "metadata": {
    "_kg_hide-input": false,
    "_kg_hide-output": true,
    "execution": {
     "iopub.execute_input": "2023-09-05T11:55:30.028175Z",
     "iopub.status.busy": "2023-09-05T11:55:30.027749Z",
     "iopub.status.idle": "2023-09-05T11:55:30.042621Z",
     "shell.execute_reply": "2023-09-05T11:55:30.041034Z"
    },
    "papermill": {
     "duration": 0.047758,
     "end_time": "2023-09-05T11:55:30.045074",
     "exception": false,
     "start_time": "2023-09-05T11:55:29.997316",
     "status": "completed"
    },
    "tags": []
   },
   "outputs": [
    {
     "name": "stdout",
     "output_type": "stream",
     "text": [
      "Business    1077\n",
      "Personal      77\n",
      "Name: CATEGORY, dtype: int64\n",
      "\n",
      "Cary                201\n",
      "Unknown Location    148\n",
      "Morrisville          85\n",
      "Whitebridge          68\n",
      "Islamabad            57\n",
      "                   ... \n",
      "Florence              1\n",
      "Ridgeland             1\n",
      "Daytona Beach         1\n",
      "Sky Lake              1\n",
      "Gampaha               1\n",
      "Name: START_POINT, Length: 177, dtype: int64\n",
      "\n",
      "Cary                 202\n",
      "Unknown Location     149\n",
      "Morrisville           84\n",
      "Whitebridge           65\n",
      "Islamabad             58\n",
      "                    ... \n",
      "Daytona Beach          1\n",
      "Sand Lake Commons      1\n",
      "Sky Lake               1\n",
      "Vista East             1\n",
      "Ilukwatta              1\n",
      "Name: STOP_POINT, Length: 188, dtype: int64\n",
      "\n",
      "Meeting            186\n",
      "Meal/Entertain     160\n",
      "Errand/Supplies    128\n",
      "Customer Visit     101\n",
      "Temporary Site      50\n",
      "Between Offices     18\n",
      "Moving               4\n",
      "Airport/Travel       3\n",
      "Charity ($)          1\n",
      "Commute              1\n",
      "Name: PURPOSE, dtype: int64\n",
      "\n"
     ]
    }
   ],
   "source": [
    "# Checking categorical/str data unique values\n",
    "for col in df.columns:\n",
    "    if df[col].dtypes == object:\n",
    "        print(df[col].value_counts())\n",
    "        print('')"
   ]
  },
  {
   "cell_type": "markdown",
   "id": "1d6cd0e8",
   "metadata": {
    "papermill": {
     "duration": 0.028236,
     "end_time": "2023-09-05T11:55:30.102169",
     "exception": false,
     "start_time": "2023-09-05T11:55:30.073933",
     "status": "completed"
    },
    "tags": []
   },
   "source": [
    "- As we can see from the previous code and the code above, the `CATEGORY` and the `PURPOSE` columns already have consistent data input.\n",
    "- However, we have to see the details of how the data in the `START_POINT` and `STOP_POINT` columns are inputted."
   ]
  },
  {
   "cell_type": "code",
   "execution_count": 77,
   "id": "9334ef6f",
   "metadata": {},
   "outputs": [
    {
     "name": "stdout",
     "output_type": "stream",
     "text": [
      "Agnew                           4\n",
      "Almond                          1\n",
      "Apex                           17\n",
      "Arabi                           1\n",
      "Arlington                       1\n",
      "Arlington Park at Amberly       1\n",
      "Asheville                       2\n",
      "Austin                          1\n",
      "Banner Elk                      8\n",
      "Bellevue                        1\n",
      "Berkeley                       16\n",
      "Boone                           2\n",
      "Briar Meadow                    1\n",
      "Bryson City                     5\n",
      "Burtrose                        1\n",
      "CBD                             4\n",
      "Capitol One                     2\n",
      "Cary                          201\n",
      "Central                         8\n",
      "Chalmette                       1\n",
      "Chapel Hill                     2\n",
      "Chessington                     2\n",
      "College Avenue                  1\n",
      "Colombo                         8\n",
      "Columbia Heights                1\n",
      "Congress Ave District           1\n",
      "Connecticut Avenue              1\n",
      "Convention Center District      1\n",
      "Cory                            1\n",
      "Couples Glen                    2\n",
      "Covington                       6\n",
      "Coxville                        1\n",
      "Daytona Beach                   1\n",
      "Downtown                        9\n",
      "Durham                         36\n",
      "Eagan Park                      1\n",
      "Eagle Rock                      1\n",
      "East Austin                     1\n",
      "East Elmhurst                   2\n",
      "East Harlem                     1\n",
      "Eastgate                        1\n",
      "Edgehill Farms                  8\n",
      "El Cerrito                      1\n",
      "Elk Park                        1\n",
      "Elmhurst                        1\n",
      "Emeryville                     10\n",
      "Fairmont                        1\n",
      "Farmington Woods                2\n",
      "Fayetteville Street             3\n",
      "Financial District              1\n",
      "Flatiron District               1\n",
      "Florence                        1\n",
      "Fort Pierce                     5\n",
      "Fuquay-Varina                   1\n",
      "Galveston                       2\n",
      "Gampaha                         1\n",
      "Georgian Acres                  1\n",
      "Gulfton                         1\n",
      "Hayesville                      1\n",
      "Hazelwood                       7\n",
      "Hell's Kitchen                  1\n",
      "Heritage Pines                  2\n",
      "Holly Springs                   2\n",
      "Houston                         5\n",
      "Hudson Square                   2\n",
      "Huntington Woods                3\n",
      "Ingleside                       1\n",
      "Islamabad                      57\n",
      "Jackson Heights                 1\n",
      "Jacksonville                    2\n",
      "Jamaica                         2\n",
      "Jamestown Court                 1\n",
      "K Street                        2\n",
      "Kalorama Triangle               3\n",
      "Kar?chi                        27\n",
      "Karachi                         4\n",
      "Katunayaka                      2\n",
      "Katunayake                      1\n",
      "Katy                            1\n",
      "Kenner                         11\n",
      "Kilarney Woods                  2\n",
      "Kissimmee                      11\n",
      "Krendle Woods                   1\n",
      "Lahore                         36\n",
      "Lake Reams                      2\n",
      "Lake Wellingborough             1\n",
      "Lakeview                        1\n",
      "Latta                           1\n",
      "Lexington Park at Amberly       2\n",
      "Long Island City                1\n",
      "Lower Garden District           1\n",
      "Lower Manhattan                 1\n",
      "Mandeville                      2\n",
      "Marigny                         1\n",
      "Mcvan                           1\n",
      "Mebane                          1\n",
      "Medical Centre                  1\n",
      "Menlo Park                      3\n",
      "Meredith                        1\n",
      "Meredith Townes                 3\n",
      "Metairie                        4\n",
      "Midtown                        14\n",
      "Midtown East                    1\n",
      "Morrisville                    85\n",
      "Mountain View                   1\n",
      "NOMA                            1\n",
      "New Orleans                    10\n",
      "New York                        4\n",
      "Newark                          2\n",
      "Newland                         2\n",
      "Noorpur Shahan                  5\n",
      "North Austin                    1\n",
      "North Berkeley Hills            1\n",
      "Northwoods                      3\n",
      "Nugegoda                        1\n",
      "Oakland                         7\n",
      "Old City                        2\n",
      "Orlando                         8\n",
      "Palo Alto                       2\n",
      "Parkway                         5\n",
      "Parkwood                        1\n",
      "Pontchartrain Beach             1\n",
      "Pontchartrain Shores            2\n",
      "Port Bolivar                    3\n",
      "Preston                         6\n",
      "R?walpindi                     11\n",
      "Raleigh                        28\n",
      "Rawalpindi                      5\n",
      "Red River District              1\n",
      "Redmond                         1\n",
      "Renaissance                     2\n",
      "Ridgeland                       1\n",
      "Rose Hill                       1\n",
      "SOMISSPO                        2\n",
      "San Francisco                   8\n",
      "San Jose                        2\n",
      "Sand Lake Commons               1\n",
      "Santa Clara                     1\n",
      "Savon Height                    4\n",
      "Seaport                         1\n",
      "Seattle                         1\n",
      "Sharpstown                      5\n",
      "Sky Lake                        1\n",
      "Soho                            1\n",
      "South                           2\n",
      "South Berkeley                  1\n",
      "South Congress                  5\n",
      "Southside                       4\n",
      "St Thomas                       1\n",
      "Stonewater                      1\n",
      "Storyville                      2\n",
      "Sugar Land                      1\n",
      "Summerwinds                     1\n",
      "Sunnyside                       1\n",
      "Sunnyvale                       1\n",
      "Tanglewood                      4\n",
      "Tenderloin                      1\n",
      "The Drag                        7\n",
      "Topton                          2\n",
      "Townes at Everett Crossing      1\n",
      "Tribeca                         1\n",
      "University District             1\n",
      "Unknown Location              148\n",
      "Wake Co.                        1\n",
      "Wake Forest                     1\n",
      "Washington                      1\n",
      "Washington Avenue               1\n",
      "Waverly Place                   4\n",
      "Wayne Ridge                     4\n",
      "West Berkeley                   5\n",
      "West End                        1\n",
      "West Palm Beach                 2\n",
      "West University                 2\n",
      "Weston                          2\n",
      "Westpark Place                 17\n",
      "Whitebridge                    68\n",
      "Winston Salem                   1\n",
      "Name: START_POINT, dtype: int64\n"
     ]
    }
   ],
   "source": [
    "# Set the display option to show all rows\n",
    "pd.set_option('display.max_rows', None)\n",
    "\n",
    "# Display the value counts for the 'START_POINT' column\n",
    "print(df['START_POINT'].value_counts().sort_index())\n",
    "\n",
    "# Reset the display option to the default value\n",
    "pd.reset_option('display.max_rows')"
   ]
  },
  {
   "cell_type": "markdown",
   "id": "b2e43b80",
   "metadata": {
    "papermill": {
     "duration": 0.028467,
     "end_time": "2023-09-05T11:55:30.231930",
     "exception": false,
     "start_time": "2023-09-05T11:55:30.203463",
     "status": "completed"
    },
    "tags": []
   },
   "source": [
    "In the **START_POINT** column, the values below are inconsistent. They are supposed to be one value because they refer to the same location.\n",
    "\n",
    "- Kar?chi and Karachi are supposed to be **Karachi** (a city in Pakistan)\n",
    "- R?walpindi and **Rawalpindi** are supposed to be Rawalpindi (a city in Pakistan)"
   ]
  },
  {
   "cell_type": "code",
   "execution_count": 78,
   "id": "84322ca0",
   "metadata": {
    "execution": {
     "iopub.execute_input": "2023-09-05T11:55:30.292419Z",
     "iopub.status.busy": "2023-09-05T11:55:30.291347Z",
     "iopub.status.idle": "2023-09-05T11:55:30.300888Z",
     "shell.execute_reply": "2023-09-05T11:55:30.300082Z"
    },
    "papermill": {
     "duration": 0.042312,
     "end_time": "2023-09-05T11:55:30.303033",
     "exception": false,
     "start_time": "2023-09-05T11:55:30.260721",
     "status": "completed"
    },
    "tags": []
   },
   "outputs": [
    {
     "data": {
      "text/plain": [
       "Kar?chi       27\n",
       "R?walpindi    11\n",
       "Name: START_POINT, dtype: int64"
      ]
     },
     "execution_count": 78,
     "metadata": {},
     "output_type": "execute_result"
    }
   ],
   "source": [
    "# Let's see how much of this inconsistent data\n",
    "incons_data = ['Kar?chi', 'R?walpindi']\n",
    "df.loc[df['START_POINT'].isin(incons_data), 'START_POINT'].value_counts()"
   ]
  },
  {
   "cell_type": "code",
   "execution_count": 79,
   "id": "895ac8ce",
   "metadata": {
    "execution": {
     "iopub.execute_input": "2023-09-05T11:55:30.362813Z",
     "iopub.status.busy": "2023-09-05T11:55:30.362152Z",
     "iopub.status.idle": "2023-09-05T11:55:30.370825Z",
     "shell.execute_reply": "2023-09-05T11:55:30.369079Z"
    },
    "papermill": {
     "duration": 0.042031,
     "end_time": "2023-09-05T11:55:30.373944",
     "exception": false,
     "start_time": "2023-09-05T11:55:30.331913",
     "status": "completed"
    },
    "tags": []
   },
   "outputs": [
    {
     "name": "stderr",
     "output_type": "stream",
     "text": [
      "C:\\Users\\meetp\\AppData\\Local\\Temp\\ipykernel_4736\\1860853087.py:2: SettingWithCopyWarning: \n",
      "A value is trying to be set on a copy of a slice from a DataFrame\n",
      "\n",
      "See the caveats in the documentation: https://pandas.pydata.org/pandas-docs/stable/user_guide/indexing.html#returning-a-view-versus-a-copy\n",
      "  df['START_POINT'].replace({\n"
     ]
    }
   ],
   "source": [
    "# Consistening values in the START_POINT column\n",
    "df['START_POINT'].replace({\n",
    "    'Kar?chi': 'Karachi',\n",
    "    'R?walpindi': 'Rawalpindi'\n",
    "}, inplace=True)"
   ]
  },
  {
   "cell_type": "markdown",
   "id": "c150d3a7",
   "metadata": {
    "papermill": {
     "duration": 0.03055,
     "end_time": "2023-09-05T11:55:31.787064",
     "exception": false,
     "start_time": "2023-09-05T11:55:31.756514",
     "status": "completed"
    },
    "tags": []
   },
   "source": [
    "# EDA\n",
    "- How many Uber trips occurred during the timestamp in the dataset?\n",
    "- What is the median for daily, weekly and monthly total trips?\n",
    "- How is the customer segment proportion? \n",
    "- What are the favorite pick-up spots for each segment?\n",
    "- How is the hourly trend for Uber trips?\n",
    "- How is the daily trend for Uber trips?\n",
    "- How is the monthly trend for Uber trips?\n",
    "- Is there any specific characteristic of each segment based on the travel duration?"
   ]
  },
  {
   "cell_type": "markdown",
   "id": "e9387033",
   "metadata": {
    "papermill": {
     "duration": 0.030297,
     "end_time": "2023-09-05T11:55:31.847952",
     "exception": false,
     "start_time": "2023-09-05T11:55:31.817655",
     "status": "completed"
    },
    "tags": []
   },
   "source": [
    "# How many Uber trips occurred during the timestamp in the dataset?"
   ]
  },
  {
   "cell_type": "code",
   "execution_count": 84,
   "id": "db49f0cb",
   "metadata": {
    "execution": {
     "iopub.execute_input": "2023-09-05T11:55:31.912636Z",
     "iopub.status.busy": "2023-09-05T11:55:31.912197Z",
     "iopub.status.idle": "2023-09-05T11:55:31.920251Z",
     "shell.execute_reply": "2023-09-05T11:55:31.918970Z"
    },
    "papermill": {
     "duration": 0.043815,
     "end_time": "2023-09-05T11:55:31.922739",
     "exception": false,
     "start_time": "2023-09-05T11:55:31.878924",
     "status": "completed"
    },
    "tags": []
   },
   "outputs": [
    {
     "name": "stdout",
     "output_type": "stream",
     "text": [
      "The record start from: 2016-01-01 21:11:00\n",
      "The record end in: 2016-12-31 22:08:00\n"
     ]
    }
   ],
   "source": [
    "# Extracting dataset timestamp\n",
    "record_begin = df['START_DATE'].min()\n",
    "record_end = df['START_DATE'].max()\n",
    "print(f'The record start from: {record_begin}')\n",
    "print(f'The record end in: {record_end}')"
   ]
  },
  {
   "cell_type": "code",
   "execution_count": 85,
   "id": "012bb6c2",
   "metadata": {
    "execution": {
     "iopub.execute_input": "2023-09-05T11:55:31.986488Z",
     "iopub.status.busy": "2023-09-05T11:55:31.986087Z",
     "iopub.status.idle": "2023-09-05T11:55:31.992117Z",
     "shell.execute_reply": "2023-09-05T11:55:31.990901Z"
    },
    "papermill": {
     "duration": 0.041195,
     "end_time": "2023-09-05T11:55:31.994767",
     "exception": false,
     "start_time": "2023-09-05T11:55:31.953572",
     "status": "completed"
    },
    "tags": []
   },
   "outputs": [
    {
     "name": "stdout",
     "output_type": "stream",
     "text": [
      "Total trips recorded: 1154 trips\n"
     ]
    }
   ],
   "source": [
    "# Extracting how much trip recorded in the dataset\n",
    "print(f'Total trips recorded: {len(df)} trips')"
   ]
  },
  {
   "cell_type": "markdown",
   "id": "6ef60be7",
   "metadata": {
    "papermill": {
     "duration": 0.030554,
     "end_time": "2023-09-05T11:55:32.056737",
     "exception": false,
     "start_time": "2023-09-05T11:55:32.026183",
     "status": "completed"
    },
    "tags": []
   },
   "source": [
    "### Insights\n",
    "\n",
    "- The data records 1154 trips\n",
    "- The data start to record trips from 1 Jan 2016 to 31 Dec 2016 (1-year timestamp)"
   ]
  },
  {
   "cell_type": "markdown",
   "id": "0503c49d",
   "metadata": {
    "papermill": {
     "duration": 0.031214,
     "end_time": "2023-09-05T11:55:32.119243",
     "exception": false,
     "start_time": "2023-09-05T11:55:32.088029",
     "status": "completed"
    },
    "tags": []
   },
   "source": [
    "# What is the median for daily and monthly total trips?"
   ]
  },
  {
   "cell_type": "code",
   "execution_count": 86,
   "id": "ae2475ed",
   "metadata": {},
   "outputs": [],
   "source": [
    "# Copying dataframe\n",
    "median_trip_data = df.copy()"
   ]
  },
  {
   "cell_type": "code",
   "execution_count": 87,
   "id": "4fb894d3",
   "metadata": {},
   "outputs": [
    {
     "data": {
      "text/html": [
       "<div>\n",
       "<style scoped>\n",
       "    .dataframe tbody tr th:only-of-type {\n",
       "        vertical-align: middle;\n",
       "    }\n",
       "\n",
       "    .dataframe tbody tr th {\n",
       "        vertical-align: top;\n",
       "    }\n",
       "\n",
       "    .dataframe thead th {\n",
       "        text-align: right;\n",
       "    }\n",
       "</style>\n",
       "<table border=\"1\" class=\"dataframe\">\n",
       "  <thead>\n",
       "    <tr style=\"text-align: right;\">\n",
       "      <th></th>\n",
       "      <th>START_DATE</th>\n",
       "      <th>END_DATE</th>\n",
       "      <th>CATEGORY</th>\n",
       "      <th>START_POINT</th>\n",
       "      <th>STOP_POINT</th>\n",
       "      <th>MILES</th>\n",
       "      <th>PURPOSE</th>\n",
       "      <th>Day</th>\n",
       "      <th>MONTH</th>\n",
       "      <th>DATE</th>\n",
       "    </tr>\n",
       "  </thead>\n",
       "  <tbody>\n",
       "    <tr>\n",
       "      <th>0</th>\n",
       "      <td>2016-01-01 21:11:00</td>\n",
       "      <td>2016-01-01 21:17:00</td>\n",
       "      <td>Business</td>\n",
       "      <td>Fort Pierce</td>\n",
       "      <td>Fort Pierce</td>\n",
       "      <td>5.1</td>\n",
       "      <td>Meal/Entertain</td>\n",
       "      <td>21</td>\n",
       "      <td>Jan</td>\n",
       "      <td>2016-01-01</td>\n",
       "    </tr>\n",
       "    <tr>\n",
       "      <th>1</th>\n",
       "      <td>2016-01-02 01:25:00</td>\n",
       "      <td>2016-01-02 01:37:00</td>\n",
       "      <td>Business</td>\n",
       "      <td>Fort Pierce</td>\n",
       "      <td>Fort Pierce</td>\n",
       "      <td>5.0</td>\n",
       "      <td>NaN</td>\n",
       "      <td>01</td>\n",
       "      <td>Jan</td>\n",
       "      <td>2016-01-02</td>\n",
       "    </tr>\n",
       "  </tbody>\n",
       "</table>\n",
       "</div>"
      ],
      "text/plain": [
       "           START_DATE            END_DATE  CATEGORY  START_POINT   STOP_POINT  \\\n",
       "0 2016-01-01 21:11:00 2016-01-01 21:17:00  Business  Fort Pierce  Fort Pierce   \n",
       "1 2016-01-02 01:25:00 2016-01-02 01:37:00  Business  Fort Pierce  Fort Pierce   \n",
       "\n",
       "   MILES         PURPOSE Day MONTH        DATE  \n",
       "0    5.1  Meal/Entertain  21   Jan  2016-01-01  \n",
       "1    5.0             NaN  01   Jan  2016-01-02  "
      ]
     },
     "execution_count": 87,
     "metadata": {},
     "output_type": "execute_result"
    }
   ],
   "source": [
    "median_trip_data['Day']  = median_trip_data['START_DATE'].dt.strftime('%H')    \n",
    "median_trip_data['MONTH'] = median_trip_data['START_DATE'].dt.strftime('%b') \n",
    "median_trip_data['DATE'] = median_trip_data['START_DATE'].dt.strftime('%Y-%m-%d')\n",
    "\n",
    "median_trip_data.head(2)"
   ]
  },
  {
   "cell_type": "code",
   "execution_count": 88,
   "id": "fe07ca92",
   "metadata": {
    "execution": {
     "iopub.execute_input": "2023-09-05T11:55:32.303607Z",
     "iopub.status.busy": "2023-09-05T11:55:32.303209Z",
     "iopub.status.idle": "2023-09-05T11:55:32.315058Z",
     "shell.execute_reply": "2023-09-05T11:55:32.313427Z"
    },
    "papermill": {
     "duration": 0.047753,
     "end_time": "2023-09-05T11:55:32.317457",
     "exception": false,
     "start_time": "2023-09-05T11:55:32.269704",
     "status": "completed"
    },
    "tags": []
   },
   "outputs": [
    {
     "name": "stdout",
     "output_type": "stream",
     "text": [
      "Median of total orders per day: 3.5 orders\n",
      "Median of total orders per Week: 51.0 orders\n",
      "Median of total orders per month: 109.5 orders\n"
     ]
    }
   ],
   "source": [
    "# Calculating median of total orders per day\n",
    "median_trip_per_day = median_trip_data.groupby(['DATE']).size().median()\n",
    "\n",
    "# Calculating median of total orders per day\n",
    "median_trip_per_week = median_trip_data.groupby(['Day']).size().median()\n",
    "\n",
    "# Calculating median of total orders per month\n",
    "median_trip_per_month = median_trip_data.groupby(['MONTH']).size().median()\n",
    "\n",
    "\n",
    "print(f'Median of total orders per day: {median_trip_per_day} orders')\n",
    "print(f'Median of total orders per Week: {median_trip_per_week} orders')\n",
    "print(f'Median of total orders per month: {median_trip_per_month} orders')"
   ]
  },
  {
   "cell_type": "markdown",
   "id": "37e121f0",
   "metadata": {
    "papermill": {
     "duration": 0.031086,
     "end_time": "2023-09-05T11:55:32.379954",
     "exception": false,
     "start_time": "2023-09-05T11:55:32.348868",
     "status": "completed"
    },
    "tags": []
   },
   "source": [
    "### Insights\n",
    "In 2016, there were approximately\n",
    "\n",
    "\n",
    "- 4 orders each day (based on median measurement) or we can say that there is 1 order for every 6-hour\n",
    "- 51 order per week (based on median measurement) or we can say more than 7 orders per day\n",
    "- 110 orders each month (based on median measurement)"
   ]
  },
  {
   "cell_type": "markdown",
   "id": "af85b54a",
   "metadata": {
    "papermill": {
     "duration": 0.031005,
     "end_time": "2023-09-05T11:55:32.443807",
     "exception": false,
     "start_time": "2023-09-05T11:55:32.412802",
     "status": "completed"
    },
    "tags": []
   },
   "source": [
    "# How is the customer segment proportion?"
   ]
  },
  {
   "cell_type": "code",
   "execution_count": 89,
   "id": "009638d4",
   "metadata": {},
   "outputs": [
    {
     "data": {
      "image/png": "[encoded data removed]",
      "text/plain": [
       "<Figure size 864x432 with 1 Axes>"
      ]
     },
     "metadata": {},
     "output_type": "display_data"
    }
   ],
   "source": [
    "# Assuming df is your DataFrame\n",
    "plt.figure(figsize=(12, 6))\n",
    "\n",
    "# Use countplot to plot and annotate to add data labels\n",
    "ax = sns.countplot(x='CATEGORY', data=df)\n",
    "ax.set(xlabel='Category', ylabel='Count', title='Customer Segment proportion\\n01 Jan 2016 - 31 Dec 2016')\n",
    "\n",
    "# Add count numbers at the top of each bar\n",
    "for p in ax.patches:\n",
    "    ax.annotate(f'{p.get_height()}', (p.get_x() + p.get_width() / 2., p.get_height()),\n",
    "                ha='center', va='center', xytext=(0, 10), textcoords='offset points')\n",
    "\n",
    "# Show the plot\n",
    "plt.show()"
   ]
  },
  {
   "cell_type": "markdown",
   "id": "238a37f5",
   "metadata": {
    "papermill": {
     "duration": 0.0313,
     "end_time": "2023-09-05T11:55:32.854790",
     "exception": false,
     "start_time": "2023-09-05T11:55:32.823490",
     "status": "completed"
    },
    "tags": []
   },
   "source": [
    "As we can see from the previous insights, the customer segments are divided into more detailed segmentation with the help of the `PURPOSE` column. So let's see its distribution."
   ]
  },
  {
   "cell_type": "code",
   "execution_count": 90,
   "id": "3692f84e",
   "metadata": {},
   "outputs": [
    {
     "data": {
      "image/png": "[encoded data removed]",
      "text/plain": [
       "<Figure size 864x432 with 1 Axes>"
      ]
     },
     "metadata": {},
     "output_type": "display_data"
    }
   ],
   "source": [
    "# Assuming df is your DataFrame\n",
    "plt.figure(figsize=(12, 6))\n",
    "\n",
    "# Use barplot to plot\n",
    "ax = sns.barplot(x=df['PURPOSE'].value_counts().values, y=df['PURPOSE'].value_counts().index)\n",
    "\n",
    "# Customize the plot\n",
    "plt.title('Customer Segment Count\\n01 Jan 2016 - 31 Dec 2016')\n",
    "plt.xlabel('Count')\n",
    "plt.ylabel('Segments')\n",
    "\n",
    "# Add count numbers at the top of each bar\n",
    "for i, v in enumerate(df['PURPOSE'].value_counts().values):\n",
    "    ax.text(v, i, f'{v}', va='center', fontsize=10, color='black')\n",
    "\n",
    "plt.show()"
   ]
  },
  {
   "cell_type": "markdown",
   "id": "395fb415",
   "metadata": {
    "papermill": {
     "duration": 0.032368,
     "end_time": "2023-09-05T11:55:33.358650",
     "exception": false,
     "start_time": "2023-09-05T11:55:33.326282",
     "status": "completed"
    },
    "tags": []
   },
   "source": [
    "### Insights\n",
    "\n",
    "- Throughout 2016, **1077 Uber Drives for Business purposes**, compared to **only 77 Uber Drives were for Personal use**.\n",
    "- The top 3 purpose for our customers to order Uber is Meeting, Meal/Entertain, and Errand/Supplies, all of which lies in the category of Business.\n",
    "- If from the very first start, the company does prioritize targeting business people, this result wouldn't be so much of a concern. However, if the company also indeed target Personal use customer, this result is concerning and thus needs to be investigated more."
   ]
  },
  {
   "cell_type": "markdown",
   "id": "a6f754f2",
   "metadata": {
    "papermill": {
     "duration": 0.03462,
     "end_time": "2023-09-05T11:55:35.400533",
     "exception": false,
     "start_time": "2023-09-05T11:55:35.365913",
     "status": "completed"
    },
    "tags": []
   },
   "source": [
    "# What are the favorite pick-up spots for each segment?"
   ]
  },
  {
   "cell_type": "code",
   "execution_count": null,
   "id": "5e7be99f",
   "metadata": {
    "execution": {
     "iopub.execute_input": "2023-09-05T11:55:35.473584Z",
     "iopub.status.busy": "2023-09-05T11:55:35.473185Z",
     "iopub.status.idle": "2023-09-05T11:55:35.482382Z",
     "shell.execute_reply": "2023-09-05T11:55:35.481242Z"
    },
    "papermill": {
     "duration": 0.048281,
     "end_time": "2023-09-05T11:55:35.484742",
     "exception": false,
     "start_time": "2023-09-05T11:55:35.436461",
     "status": "completed"
    },
    "tags": []
   },
   "outputs": [],
   "source": [
    "# Extracting axes size\n",
    "len(df['PURPOSE'].value_counts())"
   ]
  },
  {
   "cell_type": "code",
   "execution_count": 50,
   "id": "c3e1520d",
   "metadata": {},
   "outputs": [
    {
     "data": {
      "image/png": "[encoded data removed]",
      "text/plain": [
       "<Figure size 1080x864 with 10 Axes>"
      ]
     },
     "metadata": {},
     "output_type": "display_data"
    }
   ],
   "source": [
    "# Creating figure and axes object\n",
    "fig, axs = plt.subplots(nrows=5, ncols=2, figsize=(15, 12))\n",
    "\n",
    "# Flatten the axs array\n",
    "axs = axs.flatten()\n",
    "\n",
    "# Extracting PURPOSE column categories\n",
    "cat = df['PURPOSE'].unique()\n",
    "\n",
    "# Zipping ax and categories\n",
    "pair = tuple(zip(axs, cat))\n",
    "\n",
    "# Plotting\n",
    "for ax, cat in pair:\n",
    "    if type(cat) == float:\n",
    "        continue\n",
    "    else:\n",
    "        data = df.groupby(['PURPOSE', 'START_POINT']).size().reset_index(name='count').sort_values(by='count', ascending=False)\n",
    "        sns.barplot(\n",
    "            data=data.loc[data['PURPOSE'] == cat].head(5),\n",
    "            x='START_POINT',\n",
    "            y='count',\n",
    "            ax=ax\n",
    "        )\n",
    "        ax.set_title(f'Top 5 Pick-up Spots for {cat}')\n",
    "\n",
    "        # Add data labels under each bar\n",
    "        for p in ax.patches:\n",
    "            ax.annotate(f'{p.get_height()}', (p.get_x() + p.get_width() / 2., p.get_height()),\n",
    "                        ha='center', va='top', xytext=(0, -10), textcoords='offset points')\n",
    "\n",
    "plt.tight_layout()\n",
    "plt.show()"
   ]
  },
  {
   "cell_type": "markdown",
   "id": "313105cc",
   "metadata": {
    "papermill": {
     "duration": 0.036827,
     "end_time": "2023-09-05T11:55:37.973501",
     "exception": false,
     "start_time": "2023-09-05T11:55:37.936674",
     "status": "completed"
    },
    "tags": []
   },
   "source": [
    "### Insights\n",
    "\n",
    "Now we can correlate this information with our previous insight. For example\n",
    "\n",
    "- At 5 a.m., drivers can stand by at Carry, Durham, Morrisville, or Whitebridge because the possibility of getting an order is great at that time and place. (Remember our insights on the previous question which states that, at 5 a.m. the order possibilities only come from customers who have a Meeting purpose or Meal/Entrtain purpose.\n",
    "- This information also helps Uber and its drivers understand the customer's behaviors, specifically their location-ordering behavior."
   ]
  },
  {
   "cell_type": "markdown",
   "id": "bfca1085",
   "metadata": {},
   "source": [
    "# How is the hourly trend for Uber trips?"
   ]
  },
  {
   "cell_type": "code",
   "execution_count": 51,
   "id": "bfe4e72f",
   "metadata": {},
   "outputs": [
    {
     "data": {
      "image/png": "[encoded data removed]",
      "text/plain": [
       "<Figure size 864x432 with 1 Axes>"
      ]
     },
     "metadata": {},
     "output_type": "display_data"
    }
   ],
   "source": [
    "# Copy dataset\n",
    "hourly_data = df.copy()\n",
    "\n",
    "# Crete hour column\n",
    "hourly_data['HOUR'] = hourly_data['START_DATE'].apply(lambda x: x.strftime('%H'))\n",
    "\n",
    "# Counting data in each column\n",
    "hourly_data_count = hourly_data.groupby(['HOUR']).size().reset_index(name='COUNT')\n",
    "\n",
    "# Plotting trend\n",
    "\n",
    "# Creating figure and axes object\n",
    "fig, ax = plt.subplots(figsize=(12,6))\n",
    "\n",
    "# Ploting\n",
    "sns.lineplot(\n",
    "    data = hourly_data_count,\n",
    "    x = 'HOUR',\n",
    "    y = 'COUNT',\n",
    "    ax = ax,\n",
    "    label = 'Total Orders',\n",
    "    marker = '.',\n",
    "    markersize = 12\n",
    ")\n",
    "\n",
    "# Customizing\n",
    "ax.set_title('Uber Order Trend by Hour\\n01 Jan 2016 - 31 Dec 2016')\n",
    "ax.set_ylabel('Orders Count')\n",
    "ax.set_xlabel('Hour')\n",
    "\n",
    "plt.show()"
   ]
  },
  {
   "cell_type": "markdown",
   "id": "aaf63a58",
   "metadata": {},
   "source": [
    "### Insights\n",
    "- The orders start to increase at 6 a.m.\n",
    "- There are a relatively high amount of orders starting from 1 pm to 6 pm.\n",
    "- Apparently, there was no Uber order made at the time interval 4 a.m. - 5 a.m. in 2016."
   ]
  },
  {
   "cell_type": "markdown",
   "id": "7db084a8",
   "metadata": {
    "papermill": {
     "duration": 0.036993,
     "end_time": "2023-09-05T11:55:38.048167",
     "exception": false,
     "start_time": "2023-09-05T11:55:38.011174",
     "status": "completed"
    },
    "tags": []
   },
   "source": [
    "# How is the Day wise trend for Uber trips?"
   ]
  },
  {
   "cell_type": "code",
   "execution_count": 52,
   "id": "7a958670",
   "metadata": {
    "_kg_hide-input": true,
    "execution": {
     "iopub.execute_input": "2023-09-05T11:55:38.126058Z",
     "iopub.status.busy": "2023-09-05T11:55:38.125233Z",
     "iopub.status.idle": "2023-09-05T11:55:38.491202Z",
     "shell.execute_reply": "2023-09-05T11:55:38.490075Z"
    },
    "papermill": {
     "duration": 0.408427,
     "end_time": "2023-09-05T11:55:38.493788",
     "exception": false,
     "start_time": "2023-09-05T11:55:38.085361",
     "status": "completed"
    },
    "tags": []
   },
   "outputs": [
    {
     "data": {
      "image/png": "[encoded data removed]",
      "text/plain": [
       "<Figure size 864x432 with 1 Axes>"
      ]
     },
     "metadata": {},
     "output_type": "display_data"
    }
   ],
   "source": [
    "# Copying dataframe\n",
    "daily_trend = df.copy()\n",
    "\n",
    "# Creating column dayname\n",
    "daily_trend['DAYNAME'] = daily_trend['START_DATE'].apply(lambda x: x.strftime('%A'))\n",
    "\n",
    "# Counting orders per dayname\n",
    "daily_trend = daily_trend.groupby(['DAYNAME']).size()\n",
    "\n",
    "# Creating day name order\n",
    "day_order = ['Monday', 'Tuesday', 'Wednesday', 'Thursday', 'Friday', 'Saturday', 'Sunday']\n",
    "\n",
    "# Creating figure and axes object\n",
    "fig, ax = plt.subplots(figsize=(12,6))\n",
    "\n",
    "# Plotting\n",
    "sns.lineplot(\n",
    "    x = daily_trend.loc[day_order].index,\n",
    "    y = daily_trend.loc[day_order].values,\n",
    "    ax = ax,\n",
    "    marker = '.',\n",
    "    markersize = 15\n",
    ")\n",
    "\n",
    "# Customizing\n",
    "ax.set_title('Uber Order Trend by Day\\n01 Jan 2016 - 31 Dec 2016')\n",
    "ax.set_xlabel('Day Name')\n",
    "ax.set_ylabel('Total Orders')\n",
    "\n",
    "plt.show()"
   ]
  },
  {
   "cell_type": "markdown",
   "id": "1cce6c62",
   "metadata": {
    "papermill": {
     "duration": 0.037918,
     "end_time": "2023-09-05T11:55:38.570492",
     "exception": false,
     "start_time": "2023-09-05T11:55:38.532574",
     "status": "completed"
    },
    "tags": []
   },
   "source": [
    "### Insights\n",
    "- Surprisingly, orders are less likely to occur on Wednesdays than on weekend days.\n",
    "- Orders are skyrocketing on Friday.\n",
    "- Low orders on the weekend can be associated with the customer segment proportion which implies ~93% of customers are ordering Uber for business purposes."
   ]
  },
  {
   "cell_type": "markdown",
   "id": "9657e398",
   "metadata": {
    "papermill": {
     "duration": 0.037458,
     "end_time": "2023-09-05T11:55:38.645977",
     "exception": false,
     "start_time": "2023-09-05T11:55:38.608519",
     "status": "completed"
    },
    "tags": []
   },
   "source": [
    "# How is the monthly trend for Uber trips?"
   ]
  },
  {
   "cell_type": "code",
   "execution_count": 53,
   "id": "a0dfa40e",
   "metadata": {
    "_kg_hide-input": true,
    "execution": {
     "iopub.execute_input": "2023-09-05T11:55:38.725158Z",
     "iopub.status.busy": "2023-09-05T11:55:38.724307Z",
     "iopub.status.idle": "2023-09-05T11:55:39.109723Z",
     "shell.execute_reply": "2023-09-05T11:55:39.108458Z"
    },
    "papermill": {
     "duration": 0.428131,
     "end_time": "2023-09-05T11:55:39.112580",
     "exception": false,
     "start_time": "2023-09-05T11:55:38.684449",
     "status": "completed"
    },
    "tags": []
   },
   "outputs": [
    {
     "data": {
      "image/png": "[encoded data removed]",
      "text/plain": [
       "<Figure size 864x432 with 1 Axes>"
      ]
     },
     "metadata": {},
     "output_type": "display_data"
    }
   ],
   "source": [
    "# Copying dataframe\n",
    "monthly_trend = df.copy()\n",
    "\n",
    "# Creating column month\n",
    "monthly_trend['MONTH'] = monthly_trend['START_DATE'].apply(lambda x: x.strftime('%b'))\n",
    "\n",
    "# Counting orders per month\n",
    "monthly_trend = monthly_trend.groupby(['MONTH']).size()\n",
    "\n",
    "# Creating month name order\n",
    "month_order = [\n",
    "    'Jan', \n",
    "    'Feb', \n",
    "    'Mar', \n",
    "    'Apr', \n",
    "    'May',\n",
    "    'Jun',\n",
    "    'Jul',\n",
    "    'Aug',\n",
    "    'Sep',\n",
    "    'Oct',\n",
    "    'Nov',\n",
    "    'Dec'\n",
    "]\n",
    "\n",
    "# Creating figure and axes object\n",
    "fig, ax = plt.subplots(figsize=(12,6))\n",
    "\n",
    "# Plotting\n",
    "sns.lineplot(\n",
    "    x = monthly_trend.loc[month_order].index,\n",
    "    y = monthly_trend.loc[month_order].values,\n",
    "    ax = ax,\n",
    "    marker = '.',\n",
    "    markersize = 15\n",
    ")\n",
    "\n",
    "ax.set_title('Uber Order Trend by Month\\n01 Jan 2016 - 31 Dec 2016')\n",
    "ax.set_xlabel('Month Name')\n",
    "ax.set_ylabel('Total Orders')\n",
    "\n",
    "plt.show()"
   ]
  },
  {
   "cell_type": "markdown",
   "id": "d20dcb27",
   "metadata": {
    "papermill": {
     "duration": 0.039103,
     "end_time": "2023-09-05T11:55:39.192027",
     "exception": false,
     "start_time": "2023-09-05T11:55:39.152924",
     "status": "completed"
    },
    "tags": []
   },
   "source": [
    "### Insights\n",
    "- The orders are increasing and considered in the relatively high amount in Q1.\n",
    "- The orders are declining at the beginning of Q2 but increase at the end of the quarter.\n",
    "- In Q3, it increased at the beginning of the quarter, however, it declined steeply at the end of the quarter.\n",
    "- And the order experienced a good increasing trend in the last quarter (Q4)."
   ]
  },
  {
   "cell_type": "markdown",
   "id": "31e1bb17",
   "metadata": {
    "papermill": {
     "duration": 0.040022,
     "end_time": "2023-09-05T11:55:39.981724",
     "exception": false,
     "start_time": "2023-09-05T11:55:39.941702",
     "status": "completed"
    },
    "tags": []
   },
   "source": [
    "# Is there any specific characteristic of each segment based on the travel duration?"
   ]
  },
  {
   "cell_type": "code",
   "execution_count": 55,
   "id": "d77c8bc6",
   "metadata": {
    "_kg_hide-input": true,
    "execution": {
     "iopub.execute_input": "2023-09-05T11:55:40.064304Z",
     "iopub.status.busy": "2023-09-05T11:55:40.063562Z",
     "iopub.status.idle": "2023-09-05T11:55:40.527138Z",
     "shell.execute_reply": "2023-09-05T11:55:40.526175Z"
    },
    "papermill": {
     "duration": 0.507589,
     "end_time": "2023-09-05T11:55:40.529419",
     "exception": false,
     "start_time": "2023-09-05T11:55:40.021830",
     "status": "completed"
    },
    "tags": []
   },
   "outputs": [
    {
     "data": {
      "image/png": "[encoded data removed]",
      "text/plain": [
       "<Figure size 864x432 with 1 Axes>"
      ]
     },
     "metadata": {},
     "output_type": "display_data"
    }
   ],
   "source": [
    "# Copying dataframe\n",
    "travel_time = df.copy()\n",
    "\n",
    "# Creating column duration\n",
    "travel_time['DURATION'] = (travel_time['END_DATE'] - travel_time['START_DATE']).dt.total_seconds()/60\n",
    "\n",
    "# Plotting\n",
    "fig, ax = plt.subplots(figsize = (12,6))\n",
    "sns.boxplot(\n",
    "    x = travel_time['DURATION'], \n",
    "    y = travel_time['PURPOSE'],\n",
    "    ax = ax\n",
    ")\n",
    "\n",
    "# Customizing\n",
    "ax.set_title('Travel Time by Customer Segment Distribution\\n01 Jan 2016 - 31 Dec 2016')\n",
    "ax.set_xlabel('Travel Time (in Minutes)')\n",
    "ax.set_ylabel('Purpose')\n",
    "\n",
    "plt.show()"
   ]
  },
  {
   "cell_type": "markdown",
   "id": "d4157bed",
   "metadata": {
    "papermill": {
     "duration": 0.041298,
     "end_time": "2023-09-05T11:55:40.611746",
     "exception": false,
     "start_time": "2023-09-05T11:55:40.570448",
     "status": "completed"
    },
    "tags": []
   },
   "source": [
    "### Insights\n",
    "- We can see that our trip duration data also consists of many outliers.\n",
    "- On the median, customers who have Errand/Supplies purpose tend to have relatively low travel duration.\n",
    "- Customers with Meal/Entertain purposes have relatively low travel duration compared to other purposes in the Business category.\n",
    "- On a median, customers who have Meetings, Customer Visits, Temporary Sites, and Between Offices purposes have similar travel duration.\n",
    "- Customers who have Customer Visit purposes have relatively higher variability than the other purposes."
   ]
  },
  {
   "cell_type": "markdown",
   "id": "daf5ebac",
   "metadata": {
    "execution": {
     "iopub.execute_input": "2023-07-28T07:05:00.929066Z",
     "iopub.status.busy": "2023-07-28T07:05:00.927722Z",
     "iopub.status.idle": "2023-07-28T07:05:00.933691Z",
     "shell.execute_reply": "2023-07-28T07:05:00.932602Z",
     "shell.execute_reply.started": "2023-07-28T07:05:00.929011Z"
    },
    "papermill": {
     "duration": 0.041181,
     "end_time": "2023-09-05T11:55:40.694479",
     "exception": false,
     "start_time": "2023-09-05T11:55:40.653298",
     "status": "completed"
    },
    "tags": []
   },
   "source": [
    "## Closing statement.\n",
    "\n",
    "Thanks for taking the time to read this notebook. Your support and engagement mean a lot to me. Mistakes are part of the learning process, and I appreciate any feedback or insights you have to offer.\n",
    "\n",
    "As I continue on my data science journey, I'll carry your encouragement with me. Together, we'll explore new horizons and unlock the mysteries of our data-driven world.\n",
    "\n",
    "It's been a pleasure sharing this adventure with you. Looking forward to crossing paths again soon!"
   ]
  }
 ],
 "metadata": {
  "kernelspec": {
   "display_name": "Python 3 (ipykernel)",
   "language": "python",
   "name": "python3"
  },
  "language_info": {
   "codemirror_mode": {
    "name": "ipython",
    "version": 3
   },
   "file_extension": ".py",
   "mimetype": "text/x-python",
   "name": "python",
   "nbconvert_exporter": "python",
   "pygments_lexer": "ipython3",
   "version": "3.9.12"
  },
  "papermill": {
   "default_parameters": {},
   "duration": 30.707793,
   "end_time": "2023-09-05T11:55:41.859070",
   "environment_variables": {},
   "exception": null,
   "input_path": "__notebook__.ipynb",
   "output_path": "__notebook__.ipynb",
   "parameters": {},
   "start_time": "2023-09-05T11:55:11.151277",
   "version": "2.4.0"
  }
 },
 "nbformat": 4,
 "nbformat_minor": 5
}
